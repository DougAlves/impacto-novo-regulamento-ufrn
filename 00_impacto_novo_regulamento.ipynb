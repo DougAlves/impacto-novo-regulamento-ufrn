{
 "cells": [
  {
   "cell_type": "code",
   "execution_count": 1,
   "id": "fde21c5f",
   "metadata": {},
   "outputs": [],
   "source": [
    "from typing import List\n",
    "from collections import defaultdict\n",
    "\n",
    "import pandas as pd"
   ]
  },
  {
   "cell_type": "markdown",
   "id": "0523aa36",
   "metadata": {},
   "source": [
    "# Impacto novo regulamento da UFRN\n",
    "\n",
    "A UFRN aprovou o [novo regulamento da graduação](https://www.ufrn.br/imprensa/noticias/72045/consepe-aprova-novo-regulamento-da-graduacao), modificando a estrutura de notas. Esse notebook investiga qual o impacto do novo regulamento utilizando os dados abertos da UFRN para verificar se mais pessoas serão reprovadas.\n",
    "\n",
    "A notícia da UFRN diz \"Também foram realizadas várias simulações envolvendo os novos critérios de rendimento e, considerando as notas atuais dos estudantes, não foram verificados impactos significativos em relação à reprovação\". Vamos investigar se o número de alunos aprovados se mantém com o novo regulamento, para isso vamos utilizar como amostra de dados o último semestre disponível na base de dados abertas: 2022.2"
   ]
  },
  {
   "cell_type": "code",
   "execution_count": 2,
   "id": "90eda8e2",
   "metadata": {},
   "outputs": [
    {
     "name": "stdout",
     "output_type": "stream",
     "text": [
      "--2023-07-04 20:53:43--  https://dados.ufrn.br/dataset/c8650d55-3c5a-4787-a126-d28a4ef902a6/resource/b159805b-e7cb-4d71-872b-14a1a2625d7e/download/matriculas-2022.2.csv\n",
      "Resolving dados.ufrn.br (dados.ufrn.br)... 177.20.146.38\n",
      "Connecting to dados.ufrn.br (dados.ufrn.br)|177.20.146.38|:443... connected.\n",
      "WARNING: cannot verify dados.ufrn.br's certificate, issued by ‘CN=RNP ICPEdu OV SSL CA 2019,O=Rede Nacional de Ensino e Pesquisa - RNP,C=BR’:\n",
      "  Issued certificate has expired.\n",
      "HTTP request sent, awaiting response... 200 OK\n",
      "Length: 67169203 (64M) [text/csv]\n",
      "Saving to: ‘matriculas-2022.2.csv.2’\n",
      "\n",
      "matriculas-2022.2.c 100%[===================>]  64,06M  2,93MB/s    in 19s     \n",
      "\n",
      "2023-07-04 20:54:02 (3,37 MB/s) - ‘matriculas-2022.2.csv.2’ saved [67169203/67169203]\n",
      "\n"
     ]
    }
   ],
   "source": [
    "! wget https://dados.ufrn.br/dataset/c8650d55-3c5a-4787-a126-d28a4ef902a6/resource/b159805b-e7cb-4d71-872b-14a1a2625d7e/download/matriculas-2022.2.csv --no-check-certificate"
   ]
  },
  {
   "cell_type": "code",
   "execution_count": 3,
   "id": "2b3b5e27",
   "metadata": {},
   "outputs": [
    {
     "data": {
      "text/html": [
       "<div>\n",
       "<style scoped>\n",
       "    .dataframe tbody tr th:only-of-type {\n",
       "        vertical-align: middle;\n",
       "    }\n",
       "\n",
       "    .dataframe tbody tr th {\n",
       "        vertical-align: top;\n",
       "    }\n",
       "\n",
       "    .dataframe thead th {\n",
       "        text-align: right;\n",
       "    }\n",
       "</style>\n",
       "<table border=\"1\" class=\"dataframe\">\n",
       "  <thead>\n",
       "    <tr style=\"text-align: right;\">\n",
       "      <th></th>\n",
       "      <th>id_turma</th>\n",
       "      <th>discente</th>\n",
       "      <th>id_curso</th>\n",
       "      <th>unidade</th>\n",
       "      <th>nota</th>\n",
       "      <th>reposicao</th>\n",
       "      <th>faltas_unidade</th>\n",
       "      <th>media_final</th>\n",
       "      <th>numero_total_faltas</th>\n",
       "      <th>descricao</th>\n",
       "    </tr>\n",
       "  </thead>\n",
       "  <tbody>\n",
       "    <tr>\n",
       "      <th>0</th>\n",
       "      <td>57705399</td>\n",
       "      <td>1d568d48ce1a8b2ce4137e51abd0249a</td>\n",
       "      <td>2000005.0</td>\n",
       "      <td>1.0</td>\n",
       "      <td>8,5</td>\n",
       "      <td>False</td>\n",
       "      <td>0.0</td>\n",
       "      <td>8,7</td>\n",
       "      <td>0.0</td>\n",
       "      <td>APROVADO</td>\n",
       "    </tr>\n",
       "    <tr>\n",
       "      <th>1</th>\n",
       "      <td>57705399</td>\n",
       "      <td>1d568d48ce1a8b2ce4137e51abd0249a</td>\n",
       "      <td>2000005.0</td>\n",
       "      <td>2.0</td>\n",
       "      <td>8,5</td>\n",
       "      <td>False</td>\n",
       "      <td>0.0</td>\n",
       "      <td>8,7</td>\n",
       "      <td>0.0</td>\n",
       "      <td>APROVADO</td>\n",
       "    </tr>\n",
       "    <tr>\n",
       "      <th>2</th>\n",
       "      <td>57705399</td>\n",
       "      <td>1d568d48ce1a8b2ce4137e51abd0249a</td>\n",
       "      <td>2000005.0</td>\n",
       "      <td>3.0</td>\n",
       "      <td>9,0</td>\n",
       "      <td>False</td>\n",
       "      <td>0.0</td>\n",
       "      <td>8,7</td>\n",
       "      <td>0.0</td>\n",
       "      <td>APROVADO</td>\n",
       "    </tr>\n",
       "    <tr>\n",
       "      <th>3</th>\n",
       "      <td>57705399</td>\n",
       "      <td>5c30de64828a5c3e51e2a2428cb83165</td>\n",
       "      <td>2000005.0</td>\n",
       "      <td>1.0</td>\n",
       "      <td>9,7</td>\n",
       "      <td>False</td>\n",
       "      <td>0.0</td>\n",
       "      <td>9,6</td>\n",
       "      <td>0.0</td>\n",
       "      <td>APROVADO</td>\n",
       "    </tr>\n",
       "    <tr>\n",
       "      <th>4</th>\n",
       "      <td>57705399</td>\n",
       "      <td>5c30de64828a5c3e51e2a2428cb83165</td>\n",
       "      <td>2000005.0</td>\n",
       "      <td>2.0</td>\n",
       "      <td>9,7</td>\n",
       "      <td>False</td>\n",
       "      <td>0.0</td>\n",
       "      <td>9,6</td>\n",
       "      <td>0.0</td>\n",
       "      <td>APROVADO</td>\n",
       "    </tr>\n",
       "  </tbody>\n",
       "</table>\n",
       "</div>"
      ],
      "text/plain": [
       "   id_turma                          discente   id_curso  unidade nota  \\\n",
       "0  57705399  1d568d48ce1a8b2ce4137e51abd0249a  2000005.0      1.0  8,5   \n",
       "1  57705399  1d568d48ce1a8b2ce4137e51abd0249a  2000005.0      2.0  8,5   \n",
       "2  57705399  1d568d48ce1a8b2ce4137e51abd0249a  2000005.0      3.0  9,0   \n",
       "3  57705399  5c30de64828a5c3e51e2a2428cb83165  2000005.0      1.0  9,7   \n",
       "4  57705399  5c30de64828a5c3e51e2a2428cb83165  2000005.0      2.0  9,7   \n",
       "\n",
       "  reposicao  faltas_unidade media_final  numero_total_faltas descricao  \n",
       "0     False             0.0         8,7                  0.0  APROVADO  \n",
       "1     False             0.0         8,7                  0.0  APROVADO  \n",
       "2     False             0.0         8,7                  0.0  APROVADO  \n",
       "3     False             0.0         9,6                  0.0  APROVADO  \n",
       "4     False             0.0         9,6                  0.0  APROVADO  "
      ]
     },
     "execution_count": 3,
     "metadata": {},
     "output_type": "execute_result"
    }
   ],
   "source": [
    "df_matriculas = pd.read_csv('matriculas-2022.2.csv', sep=';')\n",
    "df_matriculas.head()"
   ]
  },
  {
   "cell_type": "markdown",
   "id": "82b74ef4",
   "metadata": {},
   "source": [
    "Existem várias situações em que o discente pode se encontrar após a consolidação de uma disciplina. Abaixo são listados todas essas situações."
   ]
  },
  {
   "cell_type": "code",
   "execution_count": 4,
   "id": "bdd50dfe",
   "metadata": {},
   "outputs": [
    {
     "data": {
      "text/plain": [
       "array(['APROVADO', 'DESISTENCIA', 'REPROVADO POR MÉDIA E POR FALTAS',\n",
       "       'APROVADO POR NOTA', 'INDEFERIDO', 'TRANCADO', 'REPROVADO',\n",
       "       'CANCELADO', 'EXCLUIDA', 'REPROVADO POR FALTAS',\n",
       "       'REPROVADO POR NOTA E FALTA', 'REPROVADO POR NOTA', 'MATRICULADO',\n",
       "       'DISPENSADO', 'EM ESPERA', 'AGUARDANDO DEFERIMENTO', 'CUMPRIU'],\n",
       "      dtype=object)"
      ]
     },
     "execution_count": 4,
     "metadata": {},
     "output_type": "execute_result"
    }
   ],
   "source": [
    "df_matriculas['descricao'].unique()"
   ]
  },
  {
   "cell_type": "markdown",
   "id": "444b2a31",
   "metadata": {},
   "source": [
    "Vamos investigar o impacto no novo regulamento sobre quem foi `Aprovado por Nota` (que pelo regulamento antigo teve média 5.0 com notas acima de 3.0 em cada unidade)"
   ]
  },
  {
   "cell_type": "code",
   "execution_count": 5,
   "id": "aaf46e80",
   "metadata": {},
   "outputs": [
    {
     "data": {
      "text/plain": [
       "96129"
      ]
     },
     "execution_count": 5,
     "metadata": {},
     "output_type": "execute_result"
    }
   ],
   "source": [
    "df_aprovados_nota = df_matriculas[df_matriculas['descricao'] == 'APROVADO POR NOTA'] \n",
    "len(df_aprovados_nota)"
   ]
  },
  {
   "cell_type": "markdown",
   "id": "cd8bcc35",
   "metadata": {},
   "source": [
    "É possível notar que 96129 matrículas constam como `Aprovado por Nota`. Vale ressaltar que esse número não é a quantidade de alunos que realmente foram aprovados por nota, uma vez que esses dados replicam as notas das unidades pagas pelo discente, então se uma disciplina tem 3 unidades o status de `Aprovado por Nota` aparece três vezes.\n",
    "\n",
    "Para saber o real número de discentes vamos agrupar os dados por discente, turma e as unidades dessa disciplina."
   ]
  },
  {
   "cell_type": "code",
   "execution_count": 6,
   "id": "1460fc8e",
   "metadata": {},
   "outputs": [
    {
     "data": {
      "text/html": [
       "<div>\n",
       "<style scoped>\n",
       "    .dataframe tbody tr th:only-of-type {\n",
       "        vertical-align: middle;\n",
       "    }\n",
       "\n",
       "    .dataframe tbody tr th {\n",
       "        vertical-align: top;\n",
       "    }\n",
       "\n",
       "    .dataframe thead th {\n",
       "        text-align: right;\n",
       "    }\n",
       "</style>\n",
       "<table border=\"1\" class=\"dataframe\">\n",
       "  <thead>\n",
       "    <tr style=\"text-align: right;\">\n",
       "      <th></th>\n",
       "      <th></th>\n",
       "      <th></th>\n",
       "      <th>id_curso</th>\n",
       "      <th>nota</th>\n",
       "      <th>reposicao</th>\n",
       "      <th>faltas_unidade</th>\n",
       "      <th>media_final</th>\n",
       "      <th>numero_total_faltas</th>\n",
       "      <th>descricao</th>\n",
       "    </tr>\n",
       "    <tr>\n",
       "      <th>discente</th>\n",
       "      <th>id_turma</th>\n",
       "      <th>unidade</th>\n",
       "      <th></th>\n",
       "      <th></th>\n",
       "      <th></th>\n",
       "      <th></th>\n",
       "      <th></th>\n",
       "      <th></th>\n",
       "      <th></th>\n",
       "    </tr>\n",
       "  </thead>\n",
       "  <tbody>\n",
       "    <tr>\n",
       "      <th rowspan=\"3\" valign=\"top\">000098dc4f9897eccba03c5b1e9fb49a</th>\n",
       "      <th rowspan=\"3\" valign=\"top\">57708907</th>\n",
       "      <th>1.0</th>\n",
       "      <td>2000122.0</td>\n",
       "      <td>6,7</td>\n",
       "      <td>False</td>\n",
       "      <td>0.0</td>\n",
       "      <td>5,8</td>\n",
       "      <td>14.0</td>\n",
       "      <td>APROVADO POR NOTA</td>\n",
       "    </tr>\n",
       "    <tr>\n",
       "      <th>2.0</th>\n",
       "      <td>2000122.0</td>\n",
       "      <td>5,6</td>\n",
       "      <td>False</td>\n",
       "      <td>0.0</td>\n",
       "      <td>5,8</td>\n",
       "      <td>14.0</td>\n",
       "      <td>APROVADO POR NOTA</td>\n",
       "    </tr>\n",
       "    <tr>\n",
       "      <th>3.0</th>\n",
       "      <td>2000122.0</td>\n",
       "      <td>5,2</td>\n",
       "      <td>False</td>\n",
       "      <td>0.0</td>\n",
       "      <td>5,8</td>\n",
       "      <td>14.0</td>\n",
       "      <td>APROVADO POR NOTA</td>\n",
       "    </tr>\n",
       "    <tr>\n",
       "      <th rowspan=\"2\" valign=\"top\">0000ad2567692a566a6d6f701eb9b161</th>\n",
       "      <th rowspan=\"2\" valign=\"top\">57707687</th>\n",
       "      <th>1.0</th>\n",
       "      <td>2000014.0</td>\n",
       "      <td>6,0</td>\n",
       "      <td>False</td>\n",
       "      <td>0.0</td>\n",
       "      <td>6,5</td>\n",
       "      <td>14.0</td>\n",
       "      <td>APROVADO POR NOTA</td>\n",
       "    </tr>\n",
       "    <tr>\n",
       "      <th>2.0</th>\n",
       "      <td>2000014.0</td>\n",
       "      <td>7,0</td>\n",
       "      <td>False</td>\n",
       "      <td>0.0</td>\n",
       "      <td>6,5</td>\n",
       "      <td>14.0</td>\n",
       "      <td>APROVADO POR NOTA</td>\n",
       "    </tr>\n",
       "    <tr>\n",
       "      <th>...</th>\n",
       "      <th>...</th>\n",
       "      <th>...</th>\n",
       "      <td>...</td>\n",
       "      <td>...</td>\n",
       "      <td>...</td>\n",
       "      <td>...</td>\n",
       "      <td>...</td>\n",
       "      <td>...</td>\n",
       "      <td>...</td>\n",
       "    </tr>\n",
       "    <tr>\n",
       "      <th rowspan=\"5\" valign=\"top\">fffc43b492fcefa5b99f7b6469834861</th>\n",
       "      <th rowspan=\"2\" valign=\"top\">57707185</th>\n",
       "      <th>2.0</th>\n",
       "      <td>2000039.0</td>\n",
       "      <td>6,6</td>\n",
       "      <td>False</td>\n",
       "      <td>0.0</td>\n",
       "      <td>6,1</td>\n",
       "      <td>4.0</td>\n",
       "      <td>APROVADO POR NOTA</td>\n",
       "    </tr>\n",
       "    <tr>\n",
       "      <th>3.0</th>\n",
       "      <td>2000039.0</td>\n",
       "      <td>5,3</td>\n",
       "      <td>False</td>\n",
       "      <td>0.0</td>\n",
       "      <td>6,1</td>\n",
       "      <td>4.0</td>\n",
       "      <td>APROVADO POR NOTA</td>\n",
       "    </tr>\n",
       "    <tr>\n",
       "      <th rowspan=\"3\" valign=\"top\">57707214</th>\n",
       "      <th>1.0</th>\n",
       "      <td>2000039.0</td>\n",
       "      <td>5,2</td>\n",
       "      <td>False</td>\n",
       "      <td>0.0</td>\n",
       "      <td>5,9</td>\n",
       "      <td>2.0</td>\n",
       "      <td>APROVADO POR NOTA</td>\n",
       "    </tr>\n",
       "    <tr>\n",
       "      <th>2.0</th>\n",
       "      <td>2000039.0</td>\n",
       "      <td>6,7</td>\n",
       "      <td>False</td>\n",
       "      <td>0.0</td>\n",
       "      <td>5,9</td>\n",
       "      <td>2.0</td>\n",
       "      <td>APROVADO POR NOTA</td>\n",
       "    </tr>\n",
       "    <tr>\n",
       "      <th>3.0</th>\n",
       "      <td>2000039.0</td>\n",
       "      <td>5,7</td>\n",
       "      <td>False</td>\n",
       "      <td>0.0</td>\n",
       "      <td>5,9</td>\n",
       "      <td>2.0</td>\n",
       "      <td>APROVADO POR NOTA</td>\n",
       "    </tr>\n",
       "  </tbody>\n",
       "</table>\n",
       "<p>65071 rows × 7 columns</p>\n",
       "</div>"
      ],
      "text/plain": [
       "                                                    id_curso nota reposicao  \\\n",
       "discente                         id_turma unidade                             \n",
       "000098dc4f9897eccba03c5b1e9fb49a 57708907 1.0      2000122.0  6,7     False   \n",
       "                                          2.0      2000122.0  5,6     False   \n",
       "                                          3.0      2000122.0  5,2     False   \n",
       "0000ad2567692a566a6d6f701eb9b161 57707687 1.0      2000014.0  6,0     False   \n",
       "                                          2.0      2000014.0  7,0     False   \n",
       "...                                                      ...  ...       ...   \n",
       "fffc43b492fcefa5b99f7b6469834861 57707185 2.0      2000039.0  6,6     False   \n",
       "                                          3.0      2000039.0  5,3     False   \n",
       "                                 57707214 1.0      2000039.0  5,2     False   \n",
       "                                          2.0      2000039.0  6,7     False   \n",
       "                                          3.0      2000039.0  5,7     False   \n",
       "\n",
       "                                                   faltas_unidade media_final  \\\n",
       "discente                         id_turma unidade                               \n",
       "000098dc4f9897eccba03c5b1e9fb49a 57708907 1.0                 0.0         5,8   \n",
       "                                          2.0                 0.0         5,8   \n",
       "                                          3.0                 0.0         5,8   \n",
       "0000ad2567692a566a6d6f701eb9b161 57707687 1.0                 0.0         6,5   \n",
       "                                          2.0                 0.0         6,5   \n",
       "...                                                           ...         ...   \n",
       "fffc43b492fcefa5b99f7b6469834861 57707185 2.0                 0.0         6,1   \n",
       "                                          3.0                 0.0         6,1   \n",
       "                                 57707214 1.0                 0.0         5,9   \n",
       "                                          2.0                 0.0         5,9   \n",
       "                                          3.0                 0.0         5,9   \n",
       "\n",
       "                                                   numero_total_faltas  \\\n",
       "discente                         id_turma unidade                        \n",
       "000098dc4f9897eccba03c5b1e9fb49a 57708907 1.0                     14.0   \n",
       "                                          2.0                     14.0   \n",
       "                                          3.0                     14.0   \n",
       "0000ad2567692a566a6d6f701eb9b161 57707687 1.0                     14.0   \n",
       "                                          2.0                     14.0   \n",
       "...                                                                ...   \n",
       "fffc43b492fcefa5b99f7b6469834861 57707185 2.0                      4.0   \n",
       "                                          3.0                      4.0   \n",
       "                                 57707214 1.0                      2.0   \n",
       "                                          2.0                      2.0   \n",
       "                                          3.0                      2.0   \n",
       "\n",
       "                                                           descricao  \n",
       "discente                         id_turma unidade                     \n",
       "000098dc4f9897eccba03c5b1e9fb49a 57708907 1.0      APROVADO POR NOTA  \n",
       "                                          2.0      APROVADO POR NOTA  \n",
       "                                          3.0      APROVADO POR NOTA  \n",
       "0000ad2567692a566a6d6f701eb9b161 57707687 1.0      APROVADO POR NOTA  \n",
       "                                          2.0      APROVADO POR NOTA  \n",
       "...                                                              ...  \n",
       "fffc43b492fcefa5b99f7b6469834861 57707185 2.0      APROVADO POR NOTA  \n",
       "                                          3.0      APROVADO POR NOTA  \n",
       "                                 57707214 1.0      APROVADO POR NOTA  \n",
       "                                          2.0      APROVADO POR NOTA  \n",
       "                                          3.0      APROVADO POR NOTA  \n",
       "\n",
       "[65071 rows x 7 columns]"
      ]
     },
     "execution_count": 6,
     "metadata": {},
     "output_type": "execute_result"
    }
   ],
   "source": [
    "df_aprovados_nota_grupo = df_aprovados_nota.groupby(by=['discente', 'id_turma', 'unidade'])\n",
    "df_aprovados_nota_grupo.first()"
   ]
  },
  {
   "cell_type": "markdown",
   "id": "20a35c0a",
   "metadata": {},
   "source": [
    "É possível notar que o impacto desse novo regulamento se daria sobre `65071` estudantes de `2022.2`. Mas qual será o impacto? Para medir isso vamos reprocessar as notas dos alunos com o novo regulamento e ver quantos estudantes continuam se enquadrando na situação de `Aprovados por nota`."
   ]
  },
  {
   "cell_type": "code",
   "execution_count": 7,
   "id": "80f09383",
   "metadata": {},
   "outputs": [],
   "source": [
    "def unidades_acima_quatro(notas: List[float]) -> bool:\n",
    "    return all([nota >= 4.0 for nota in notas])\n",
    "\n",
    "def media_acima_seis(notas: List[float]) -> bool:\n",
    "    media = sum([nota for nota in notas])/len(notas)\n",
    "    return media >= 6.0"
   ]
  },
  {
   "cell_type": "markdown",
   "id": "29d39b6d",
   "metadata": {},
   "source": [
    "Para facilitar o processamento vamos modificar a estrutura de dados para um dicionário python no formato: `{(discente, turma): [nota unidade 1, nota unidade 2, ..., nota unidade x]`"
   ]
  },
  {
   "cell_type": "code",
   "execution_count": 8,
   "id": "0a18bba1",
   "metadata": {},
   "outputs": [],
   "source": [
    "preprocessamento_afetados = defaultdict(lambda: [])"
   ]
  },
  {
   "cell_type": "code",
   "execution_count": 9,
   "id": "1a7f9bed",
   "metadata": {},
   "outputs": [],
   "source": [
    "for (discente, turma, unidade), group in df_aprovados_nota_grupo:\n",
    "    nota = float(group['nota'].iloc[0].replace(',', '.'))\n",
    "    preprocessamento_afetados[(discente, turma)].append(nota)"
   ]
  },
  {
   "cell_type": "code",
   "execution_count": 10,
   "id": "de20d17e",
   "metadata": {},
   "outputs": [],
   "source": [
    "aprovados_novo_regulamento = 0\n",
    "for (discente, turma), notas in preprocessamento_afetados.items():\n",
    "    if unidades_acima_quatro(notas) and media_acima_seis(notas):\n",
    "        aprovados_novo_regulamento += 1"
   ]
  },
  {
   "cell_type": "markdown",
   "id": "0c93451d",
   "metadata": {},
   "source": [
    "Com o calculo anterior podemos concluir que o seguinte número de alunos deixariam de passar por nota com o novo regulamento."
   ]
  },
  {
   "cell_type": "code",
   "execution_count": 11,
   "id": "5f8fa40e",
   "metadata": {},
   "outputs": [
    {
     "data": {
      "text/plain": [
       "55703"
      ]
     },
     "execution_count": 11,
     "metadata": {},
     "output_type": "execute_result"
    }
   ],
   "source": [
    "len(df_aprovados_nota_grupo) - aprovados_novo_regulamento"
   ]
  }
 ],
 "metadata": {
  "kernelspec": {
   "display_name": "Python 3 (ipykernel)",
   "language": "python",
   "name": "python3"
  },
  "language_info": {
   "codemirror_mode": {
    "name": "ipython",
    "version": 3
   },
   "file_extension": ".py",
   "mimetype": "text/x-python",
   "name": "python",
   "nbconvert_exporter": "python",
   "pygments_lexer": "ipython3",
   "version": "3.11.1"
  }
 },
 "nbformat": 4,
 "nbformat_minor": 5
}
